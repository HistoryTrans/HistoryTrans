{
 "cells": [
  {
   "cell_type": "code",
   "execution_count": null,
   "metadata": {},
   "outputs": [],
   "source": [
    "import json\n",
    "import os"
   ]
  },
  {
   "cell_type": "code",
   "execution_count": null,
   "metadata": {},
   "outputs": [],
   "source": [
    "# 评估文件路径\n",
    "eval_file_path = '/root/xm/HistoryTrans/eval/data/eval_results/eval_resu_20231217215841.json'\n",
    "# 输出文件路径\n",
    "output_file_path = '../dataset_clean/'\n",
    "# 设置BLEU分数阈值\n",
    "bleu_threshold = 0.1\n",
    "\n",
    "# 输出文件夹不存在则创建\n",
    "if not os.path.exists(output_file_path):\n",
    "    os.makedirs(output_file_path)\n",
    "\n",
    "# 加载评估结果\n",
    "with open(eval_file_path, 'r') as file:\n",
    "    eval_results = json.load(file)\n",
    "\n",
    "# 总共有多少个样本\n",
    "total_num = len(eval_results['samples'])\n",
    "print('总共有{}个样本'.format(total_num))"
   ]
  },
  {
   "cell_type": "code",
   "execution_count": null,
   "metadata": {},
   "outputs": [],
   "source": [
    "# 过滤出质量高的数据\n",
    "high_quality_samples = [sample for sample in eval_results['samples'] if sample['BLEU'] >= bleu_threshold]\n",
    "\n",
    "# 可选：过滤出质量低的数据\n",
    "low_quality_samples = [sample for sample in eval_results['samples'] if sample['BLEU'] < bleu_threshold]\n",
    "# 低质量数据额外加上字段\n",
    "for sample in low_quality_samples:\n",
    "    sample['low_quality'] = 1"
   ]
  },
  {
   "cell_type": "code",
   "execution_count": null,
   "metadata": {},
   "outputs": [],
   "source": [
    "# 保存高质量数据集\n",
    "with open(os.path.join(output_file_path, f'high_quality_data.json'), 'w') as outfile:\n",
    "    json.dump(high_quality_samples, outfile, ensure_ascii=False, indent=4)\n",
    "\n",
    "# 可选：保存低质量数据集，以便后续审核或分析\n",
    "with open(os.path.join(output_file_path, f'low_quality_data.json'), 'w') as outfile:\n",
    "    json.dump(low_quality_samples, outfile, ensure_ascii=False, indent=4)\n",
    "\n",
    "print(f\"高质量数据集大小：{len(high_quality_samples)}\")\n",
    "print(f\"低质量数据集大小：{len(low_quality_samples)}\")"
   ]
  },
  {
   "cell_type": "markdown",
   "metadata": {},
   "source": [
    "### 分析低质量数据集\n",
    "\n",
    "**重要提示**：在运行以下步骤之前，请确保手动检查并更新低质量数据集中的 `low_quality` 字段。\n",
    "- 使用 `1` 标记那些确实质量较低的数据集样本。\n",
    "- 使用 `0` 标记那些数据集质量本身没有问题，但模型预测结果未达预期的样本。"
   ]
  },
  {
   "cell_type": "code",
   "execution_count": null,
   "metadata": {},
   "outputs": [],
   "source": [
    "file_path = os.path.join(output_file_path, 'low_quality_data.json')\n",
    "# 读取数据\n",
    "with open(file_path, 'r') as file:\n",
    "    low_quality_data = json.load(file)"
   ]
  },
  {
   "cell_type": "code",
   "execution_count": null,
   "metadata": {},
   "outputs": [],
   "source": [
    "# 初始化统计变量\n",
    "total_low_quality_samples = len(low_quality_data)\n",
    "low_quality_count = 0\n",
    "low_quality_bleu_sum = 0\n",
    "model_issue_count = 0\n",
    "model_issue_bleu_sum = 0\n",
    "\n",
    "# 统计\n",
    "for sample in low_quality_data:\n",
    "    if sample['low_quality'] == 1:\n",
    "        low_quality_count += 1\n",
    "        low_quality_bleu_sum += sample['BLEU']\n",
    "    elif sample['low_quality'] == 0:\n",
    "        model_issue_count += 1\n",
    "        model_issue_bleu_sum += sample['BLEU']\n",
    "\n",
    "# 计算比例和平均分数\n",
    "low_quality_ratio = low_quality_count / total_num\n",
    "low_quality_avg_bleu = low_quality_bleu_sum / low_quality_count if low_quality_count > 0 else 0\n",
    "model_issue_ratio = model_issue_count / total_num\n",
    "model_issue_avg_bleu = model_issue_bleu_sum / model_issue_count if model_issue_count > 0 else 0\n",
    "\n",
    "# 输出结果\n",
    "print(f\"总样本数: {len(eval_results['samples'])}\")\n",
    "print(f\"低质量总样本数: {total_low_quality_samples}, 质量低的样本数: {low_quality_count}, 模型预测问题样本数: {model_issue_count}\")\n",
    "print(f\"质量低的样本比例: {low_quality_ratio:.2f}, 平均BLEU分数: {low_quality_avg_bleu:.2f}\")\n",
    "print(f\"模型预测问题样本比例: {model_issue_ratio:.2f}, 平均BLEU分数: {model_issue_avg_bleu:.2f}\")"
   ]
  }
 ],
 "metadata": {
  "kernelspec": {
   "display_name": "base",
   "language": "python",
   "name": "python3"
  },
  "language_info": {
   "codemirror_mode": {
    "name": "ipython",
    "version": 3
   },
   "file_extension": ".py",
   "mimetype": "text/x-python",
   "name": "python",
   "nbconvert_exporter": "python",
   "pygments_lexer": "ipython3",
   "version": "3.8.10"
  }
 },
 "nbformat": 4,
 "nbformat_minor": 2
}
