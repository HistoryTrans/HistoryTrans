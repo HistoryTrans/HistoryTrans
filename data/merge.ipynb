{
 "cells": [
  {
   "cell_type": "code",
   "execution_count": 11,
   "metadata": {},
   "outputs": [],
   "source": [
    "n = 2000  # 您可以根据需要更改此值"
   ]
  },
  {
   "cell_type": "code",
   "execution_count": 12,
   "metadata": {},
   "outputs": [],
   "source": [
    "# %pip install ijson"
   ]
  },
  {
   "cell_type": "code",
   "execution_count": 13,
   "metadata": {},
   "outputs": [],
   "source": [
    "import ijson\n",
    "import json\n",
    "import random\n",
    "import datetime\n",
    "import os"
   ]
  },
  {
   "cell_type": "code",
   "execution_count": 14,
   "metadata": {},
   "outputs": [],
   "source": [
    "def merge_multiple_files(file_list, output_file_base, n, percent=0.99):\n",
    "    merged_objects = []\n",
    "    for file_index, input_file in enumerate(file_list):\n",
    "        with open(input_file, 'rb') as f:\n",
    "            objects_file = list(ijson.items(f, 'item'))\n",
    "            selected_objects = objects_file[:n]\n",
    "        \n",
    "            index = 0\n",
    "            for obj in selected_objects:\n",
    "                merged_objects.append(obj)\n",
    "                index += 1\n",
    "                # 打印进度\n",
    "                if index % 100 == 0:\n",
    "                    print(f\"文件{file_index+1}进度：{index}\")\n",
    "            print(f\"文件{file_index+1}共有{index}条数据\")\n",
    "\n",
    "    print(f\"开始写入文件..., 共{len(merged_objects)}条数据\")\n",
    "    # 打乱列表\n",
    "    random.shuffle(merged_objects)\n",
    "\n",
    "    # 按比例划分训练集、验证集\n",
    "    train_count = int(len(merged_objects) * percent)\n",
    "    train_objects = merged_objects[:train_count]\n",
    "    val_objects = merged_objects[train_count:]\n",
    "\n",
    "    # 获取当前日期和时间，并添加到文件名中\n",
    "    current_datetime = datetime.datetime.now().strftime('%Y%m%d_%H%M%S')\n",
    "    \n",
    "    train_output_file = os.path.join(output_file_base, \"train.json\")\n",
    "    val_output_file = os.path.join(output_file_base, \"val.json\")\n",
    "\n",
    "    with open(train_output_file, 'w') as fo:\n",
    "        # 以中文utf-8编码写入\n",
    "        json.dump(train_objects, fo, ensure_ascii=False, indent=4)\n",
    "\n",
    "    with open(val_output_file, 'w') as fo:\n",
    "        # 以中文utf-8编码写入\n",
    "        json.dump(val_objects, fo, ensure_ascii=False, indent=4)\n",
    "\n",
    "    print(f\"合并完成，共{len(merged_objects)}条数据\")"
   ]
  },
  {
   "cell_type": "code",
   "execution_count": 15,
   "metadata": {},
   "outputs": [
    {
     "name": "stdout",
     "output_type": "stream",
     "text": [
      "文件1进度：100\n",
      "文件1进度：200\n",
      "文件1进度：300\n",
      "文件1进度：400\n",
      "文件1进度：500\n",
      "文件1进度：600\n",
      "文件1进度：700\n",
      "文件1进度：800\n",
      "文件1进度：900\n",
      "文件1进度：1000\n",
      "文件1进度：1100\n",
      "文件1进度：1200\n",
      "文件1进度：1300\n",
      "文件1进度：1400\n",
      "文件1进度：1500\n",
      "文件1进度：1600\n",
      "文件1进度：1700\n",
      "文件1进度：1800\n",
      "文件1进度：1900\n",
      "文件1进度：2000\n",
      "文件1共有2000条数据\n",
      "开始写入文件..., 共2000条数据\n",
      "合并完成，共2000条数据\n"
     ]
    }
   ],
   "source": [
    "# 使用示例：\n",
    "file_list = [\n",
    "             # r'./merged_output_20230807_055259.json', \n",
    "             r'./merged_output_20230812_190843.json']\n",
    "merge_multiple_files(file_list, '.', n)"
   ]
  }
 ],
 "metadata": {
  "kernelspec": {
   "display_name": "Python 3 (ipykernel)",
   "language": "python",
   "name": "python3"
  },
  "language_info": {
   "codemirror_mode": {
    "name": "ipython",
    "version": 3
   },
   "file_extension": ".py",
   "mimetype": "text/x-python",
   "name": "python",
   "nbconvert_exporter": "python",
   "pygments_lexer": "ipython3",
   "version": "3.8.10"
  }
 },
 "nbformat": 4,
 "nbformat_minor": 4
}
