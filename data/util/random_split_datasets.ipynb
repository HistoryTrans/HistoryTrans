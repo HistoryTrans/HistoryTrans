{
 "cells": [
  {
   "cell_type": "markdown",
   "metadata": {},
   "source": [
    "random_split_datasets"
   ]
  },
  {
   "cell_type": "code",
   "execution_count": 1,
   "metadata": {},
   "outputs": [
    {
     "name": "stdout",
     "output_type": "stream",
     "text": [
      "原始数据集大小： 977172\n",
      "前5条数据：\n",
      "{'input': '臣闻伐国事重，古人所难，功虽可立，必须经略而举。', 'output': '倘若天降大雨，也许可以凭借水路交通，运输粮草增加兵力，为大举进攻作好计划。', 'terms': []}\n",
      "{'input': '德钧益惭。', 'output': '赵德钧更加羞惭。', 'terms': []}\n",
      "{'input': '以山南东道节度使来瑱为兵部尚书，同中书门下平章事，节度如故。', 'output': '以山南东道节度使来王员为兵部尚书、同中书门下平章事，节度使仍然像原来一样兼任。', 'terms': []}\n"
     ]
    }
   ],
   "source": [
    "import json\n",
    "import random\n",
    "import os\n",
    "\n",
    "# 定义输入文件路径\n",
    "input_file_path = '../version4/merged_output_20230812_190843.json'\n",
    "\n",
    "# 加载数据集\n",
    "with open(input_file_path, 'r', encoding='utf-8') as file:\n",
    "    data = json.load(file)\n",
    "\n",
    "# 打印数据集大小\n",
    "data_size = len(data)\n",
    "print('原始数据集大小：', data_size)\n",
    "\n",
    "# 打印前3条数据\n",
    "print('前5条数据：')\n",
    "for i in range(3):\n",
    "    print(data[i])"
   ]
  },
  {
   "cell_type": "code",
   "execution_count": 2,
   "metadata": {},
   "outputs": [
    {
     "name": "stdout",
     "output_type": "stream",
     "text": [
      "原数据集长度: 977172\n",
      "抽样数据集长度: 1000\n",
      "抽样数据集文件的存储大小: 0.24 MB\n"
     ]
    }
   ],
   "source": [
    "# 确定样本大小\n",
    "sample_size = 1000  # 例如抽取sample_size个样本\n",
    "\n",
    "# 随机选择样本\n",
    "sampled_data = random.sample(data, sample_size)\n",
    "\n",
    "# 定义输出文件路径，包含数据集的长度信息\n",
    "# 原数据集所在文件夹\n",
    "input_file_dir = os.path.dirname(input_file_path)\n",
    "# 原数据集文件名\n",
    "input_file_name = os.path.basename(input_file_path)\n",
    "# 输出文件路径\n",
    "output_file_path = os.path.join(input_file_dir, f'sampled_{sample_size}_{input_file_name}')\n",
    "\n",
    "# 保存抽样数据\n",
    "with open(output_file_path, 'w', encoding='utf-8') as outfile:\n",
    "    json.dump(sampled_data, outfile, ensure_ascii=False, indent=4)\n",
    "\n",
    "# 打印原数据集和抽样数据集的长度\n",
    "print(f\"原数据集长度: {data_size}\")\n",
    "print(f\"抽样数据集长度: {sample_size}\")\n",
    "\n",
    "# 抽样数据集文件的存储大小，按人类可读的方式打印（保留两位小数）\n",
    "print(f\"抽样数据集文件的存储大小: {os.path.getsize(output_file_path) / 1024 / 1024:.2f} MB\")"
   ]
  }
 ],
 "metadata": {
  "kernelspec": {
   "display_name": "bert",
   "language": "python",
   "name": "python3"
  },
  "language_info": {
   "codemirror_mode": {
    "name": "ipython",
    "version": 3
   },
   "file_extension": ".py",
   "mimetype": "text/x-python",
   "name": "python",
   "nbconvert_exporter": "python",
   "pygments_lexer": "ipython3",
   "version": "3.8.10"
  }
 },
 "nbformat": 4,
 "nbformat_minor": 2
}
