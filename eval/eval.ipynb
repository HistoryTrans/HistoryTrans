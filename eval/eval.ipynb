{
 "cells": [
  {
   "cell_type": "markdown",
   "metadata": {},
   "source": [
    "### 模型评估脚本\n",
    "\n",
    "这个脚本用于评估基于transformers库的模型在古文翻译任务上的性能。\n",
    "\n",
    "- **模型加载**: 加载预训练模型和分词器。\n",
    "- **文本翻译**: 通过模型将文言文翻译为白话文。\n",
    "- **评估过程**: 对模型的翻译结果进行BLEU评分，以评估翻译质量。"
   ]
  },
  {
   "cell_type": "code",
   "execution_count": 1,
   "metadata": {},
   "outputs": [],
   "source": [
    "import json\n",
    "import os\n",
    "import time\n",
    "import random\n",
    "from typing import List, Dict\n",
    "\n",
    "from transformers import AutoModel, AutoTokenizer\n",
    "from nltk.translate.bleu_score import sentence_bleu, SmoothingFunction"
   ]
  },
  {
   "cell_type": "code",
   "execution_count": 2,
   "metadata": {},
   "outputs": [],
   "source": [
    "# 定义全局常量\n",
    "# model_name_or_path=模型路径\n",
    "\n",
    "model_name_or_path = '/root/ChatGLM3/chatglm3-6b'"
   ]
  },
  {
   "cell_type": "code",
   "execution_count": 3,
   "metadata": {},
   "outputs": [
    {
     "data": {
      "application/vnd.jupyter.widget-view+json": {
       "model_id": "578ea512f11542f7adb7f325b527146d",
       "version_major": 2,
       "version_minor": 0
      },
      "text/plain": [
       "Loading checkpoint shards:   0%|          | 0/7 [00:00<?, ?it/s]"
      ]
     },
     "metadata": {},
     "output_type": "display_data"
    },
    {
     "name": "stdout",
     "output_type": "stream",
     "text": [
      "model dtype: torch.float16\n"
     ]
    }
   ],
   "source": [
    "# 加载模型和分词器\n",
    "model = AutoModel.from_pretrained(model_name_or_path, trust_remote_code=True).half().cuda()\n",
    "tokenizer = AutoTokenizer.from_pretrained(model_name_or_path, trust_remote_code=True)\n",
    "model = model.eval()\n",
    "# 打印模型的数据精度\n",
    "print(f\"model dtype: {model.dtype}\")"
   ]
  },
  {
   "cell_type": "code",
   "execution_count": 4,
   "metadata": {},
   "outputs": [],
   "source": [
    "# 提示构造\n",
    "PROMPT_DICT = {\n",
    "    \"prompt_input\": (\n",
    "        \"下面是一段文言文文本，请直接将它翻译成白话文。\\n\"\n",
    "        \"{terms}\"  # 如有专业术语或特定背景，将在这里显示\n",
    "        \"#文言文文本:\\n{input}\\n\"\n",
    "        \"#白话文文本:\\n\"\n",
    "    )\n",
    "}\n",
    "\n",
    "# 功能函数\n",
    "def generate_output_from_text(text_list: List[str]) -> List[Dict[str, str]]:\n",
    "    \"\"\"\n",
    "    生成文本输出。\n",
    "\n",
    "    :param text_list: 需要翻译的文言文文本列表。\n",
    "    :param terms_list: 对应每个文言文文本的专业术语列表。每个列表包含词典，其中包含术语的源文本、标签和目标文本。\n",
    "    :return: 包含模型翻译输出的字典列表。\n",
    "    \"\"\"\n",
    "    result_list = []\n",
    "\n",
    "    for idx, text in enumerate(text_list):\n",
    "        # 使用PROMPT_DICT构造完整的输入提示\n",
    "        prompt = PROMPT_DICT[\"prompt_input\"].format(input=text, terms=\"\")\n",
    "        # 调用模型进行翻译\n",
    "        result = model.chat(tokenizer, prompt, history=[])[0]\n",
    "        result_list.append({\"text\": result})\n",
    "\n",
    "    return result_list"
   ]
  },
  {
   "cell_type": "code",
   "execution_count": 5,
   "metadata": {},
   "outputs": [
    {
     "name": "stdout",
     "output_type": "stream",
     "text": [
      "要尊重老人，也要尊重别人的老人；要关心孩子，也要关心别人的孩子。\n"
     ]
    }
   ],
   "source": [
    "# 使用方法：\n",
    "text_list = [\"老吾老，以及人之老；幼吾幼，以及人之幼\"]\n",
    "results = generate_output_from_text(text_list)\n",
    "print(results[0]['text'])"
   ]
  },
  {
   "cell_type": "code",
   "execution_count": 6,
   "metadata": {},
   "outputs": [
    {
     "name": "stdout",
     "output_type": "stream",
     "text": [
      "青色是从蓝色中提取的，但青色比蓝色更青；冰是由水制成的，但冰的寒冷程度超过了水。\n"
     ]
    }
   ],
   "source": [
    "# 使用方法：\n",
    "text_list = [\"青，取之于蓝，而青于蓝；冰，水为之，而寒于水。\"]\n",
    "results = generate_output_from_text(text_list)\n",
    "print(results[0]['text'])"
   ]
  },
  {
   "cell_type": "code",
   "execution_count": 7,
   "metadata": {},
   "outputs": [
    {
     "name": "stdout",
     "output_type": "stream",
     "text": [
      "在十三年的时候，我担任武昌知府。吴三桂侵犯湖南，军队正准备攻击岳州，我发行了公文要求成龙建造浮桥以便军队渡河，但浮桥刚刚建成，山水爆发，桥梁受损，因此我失去了官职。\n"
     ]
    }
   ],
   "source": [
    "# 使用方法：\n",
    "text_list = [\"十三年，署武昌知府。吴三桂犯湖南，师方攻岳州，檄成龙造浮桥济师，甫成，山水发，桥圮，坐夺官。\"]\n",
    "results = generate_output_from_text(text_list)\n",
    "print(results[0]['text'])"
   ]
  },
  {
   "cell_type": "markdown",
   "metadata": {},
   "source": [
    "进行评估"
   ]
  },
  {
   "cell_type": "code",
   "execution_count": 8,
   "metadata": {},
   "outputs": [],
   "source": [
    "# 定义全局常量\n",
    "# eva_file_path=用于评估的文件路径\n",
    "# output_file_path=评估结果输出路径\n",
    "\n",
    "eva_file_path = r\"/root/xm/HistoryTrans/data/version4/sampled_200_merged_output_20230812_190843.json\"\n",
    "output_file_path = \"./data/eval_results/\"\n",
    "\n",
    "# 检查输出文件夹是否存在，如果不存在则创建\n",
    "if not os.path.exists(output_file_path):\n",
    "    os.makedirs(output_file_path)\n",
    "\n",
    "# 读取评估数据\n",
    "with open(eva_file_path, \"r\", encoding=\"utf-8\") as f:\n",
    "    data = json.load(f)"
   ]
  },
  {
   "cell_type": "code",
   "execution_count": 9,
   "metadata": {},
   "outputs": [],
   "source": [
    "def calculate_bleu(reference, candidate):\n",
    "    reference = [list(reference)]\n",
    "    candidate = list(candidate)\n",
    "    return sentence_bleu(reference, candidate, smoothing_function=SmoothingFunction().method1)"
   ]
  },
  {
   "cell_type": "code",
   "execution_count": 10,
   "metadata": {},
   "outputs": [
    {
     "name": "stdout",
     "output_type": "stream",
     "text": [
      "开始评估，共 200 个样本.\n",
      "评估进度: 1/200, 当前样本BLEU分数: 0.13\n",
      "评估进度: 2/200, 当前样本BLEU分数: 0.01\n",
      "评估进度: 3/200, 当前样本BLEU分数: 0.16\n",
      "评估进度: 4/200, 当前样本BLEU分数: 0.10\n",
      "评估进度: 5/200, 当前样本BLEU分数: 0.28\n",
      "评估进度: 6/200, 当前样本BLEU分数: 0.25\n",
      "评估进度: 7/200, 当前样本BLEU分数: 0.54\n",
      "评估进度: 8/200, 当前样本BLEU分数: 0.24\n",
      "评估进度: 9/200, 当前样本BLEU分数: 0.01\n",
      "评估进度: 10/200, 当前样本BLEU分数: 0.15\n",
      "评估进度: 11/200, 当前样本BLEU分数: 0.04\n",
      "评估进度: 12/200, 当前样本BLEU分数: 0.18\n",
      "评估进度: 13/200, 当前样本BLEU分数: 0.11\n",
      "评估进度: 14/200, 当前样本BLEU分数: 0.43\n",
      "评估进度: 15/200, 当前样本BLEU分数: 0.18\n",
      "评估进度: 16/200, 当前样本BLEU分数: 0.62\n",
      "评估进度: 17/200, 当前样本BLEU分数: 0.26\n",
      "评估进度: 18/200, 当前样本BLEU分数: 0.01\n",
      "评估进度: 19/200, 当前样本BLEU分数: 0.06\n",
      "评估进度: 20/200, 当前样本BLEU分数: 0.03\n",
      "评估进度: 21/200, 当前样本BLEU分数: 0.07\n",
      "评估进度: 22/200, 当前样本BLEU分数: 0.00\n",
      "评估进度: 23/200, 当前样本BLEU分数: 0.03\n",
      "评估进度: 24/200, 当前样本BLEU分数: 0.02\n",
      "评估进度: 25/200, 当前样本BLEU分数: 0.03\n",
      "评估进度: 26/200, 当前样本BLEU分数: 0.11\n",
      "评估进度: 27/200, 当前样本BLEU分数: 0.17\n",
      "评估进度: 28/200, 当前样本BLEU分数: 0.17\n",
      "评估进度: 29/200, 当前样本BLEU分数: 0.22\n",
      "评估进度: 30/200, 当前样本BLEU分数: 0.19\n",
      "评估进度: 31/200, 当前样本BLEU分数: 0.27\n",
      "评估进度: 32/200, 当前样本BLEU分数: 0.06\n",
      "评估进度: 33/200, 当前样本BLEU分数: 0.01\n",
      "评估进度: 34/200, 当前样本BLEU分数: 0.02\n",
      "评估进度: 35/200, 当前样本BLEU分数: 0.02\n",
      "评估进度: 36/200, 当前样本BLEU分数: 0.05\n",
      "评估进度: 37/200, 当前样本BLEU分数: 0.12\n",
      "评估进度: 38/200, 当前样本BLEU分数: 0.32\n",
      "评估进度: 39/200, 当前样本BLEU分数: 0.16\n",
      "评估进度: 40/200, 当前样本BLEU分数: 0.06\n",
      "评估进度: 41/200, 当前样本BLEU分数: 0.18\n",
      "评估进度: 42/200, 当前样本BLEU分数: 0.11\n",
      "评估进度: 43/200, 当前样本BLEU分数: 0.17\n",
      "评估进度: 44/200, 当前样本BLEU分数: 0.13\n",
      "评估进度: 45/200, 当前样本BLEU分数: 0.27\n",
      "评估进度: 46/200, 当前样本BLEU分数: 0.07\n",
      "评估进度: 47/200, 当前样本BLEU分数: 0.26\n",
      "评估进度: 48/200, 当前样本BLEU分数: 0.40\n",
      "评估进度: 49/200, 当前样本BLEU分数: 0.57\n",
      "评估进度: 50/200, 当前样本BLEU分数: 0.28\n",
      "评估进度: 51/200, 当前样本BLEU分数: 0.05\n",
      "评估进度: 52/200, 当前样本BLEU分数: 0.23\n",
      "评估进度: 53/200, 当前样本BLEU分数: 0.09\n",
      "评估进度: 54/200, 当前样本BLEU分数: 0.18\n",
      "评估进度: 55/200, 当前样本BLEU分数: 0.26\n",
      "评估进度: 56/200, 当前样本BLEU分数: 0.18\n",
      "评估进度: 57/200, 当前样本BLEU分数: 0.05\n",
      "评估进度: 58/200, 当前样本BLEU分数: 0.22\n",
      "评估进度: 59/200, 当前样本BLEU分数: 0.11\n",
      "评估进度: 60/200, 当前样本BLEU分数: 0.05\n",
      "评估进度: 61/200, 当前样本BLEU分数: 0.01\n",
      "评估进度: 62/200, 当前样本BLEU分数: 0.73\n",
      "评估进度: 63/200, 当前样本BLEU分数: 0.02\n",
      "评估进度: 64/200, 当前样本BLEU分数: 0.02\n",
      "评估进度: 65/200, 当前样本BLEU分数: 0.09\n",
      "评估进度: 66/200, 当前样本BLEU分数: 0.04\n",
      "评估进度: 67/200, 当前样本BLEU分数: 0.19\n",
      "评估进度: 68/200, 当前样本BLEU分数: 0.34\n",
      "评估进度: 69/200, 当前样本BLEU分数: 0.19\n",
      "评估进度: 70/200, 当前样本BLEU分数: 0.01\n",
      "评估进度: 71/200, 当前样本BLEU分数: 0.13\n",
      "评估进度: 72/200, 当前样本BLEU分数: 0.06\n",
      "评估进度: 73/200, 当前样本BLEU分数: 0.01\n",
      "评估进度: 74/200, 当前样本BLEU分数: 0.14\n",
      "评估进度: 75/200, 当前样本BLEU分数: 0.08\n",
      "评估进度: 76/200, 当前样本BLEU分数: 0.22\n",
      "评估进度: 77/200, 当前样本BLEU分数: 0.19\n",
      "评估进度: 78/200, 当前样本BLEU分数: 0.59\n",
      "评估进度: 79/200, 当前样本BLEU分数: 0.11\n",
      "评估进度: 80/200, 当前样本BLEU分数: 0.14\n",
      "评估进度: 81/200, 当前样本BLEU分数: 0.03\n",
      "评估进度: 82/200, 当前样本BLEU分数: 0.37\n",
      "评估进度: 83/200, 当前样本BLEU分数: 0.14\n",
      "评估进度: 84/200, 当前样本BLEU分数: 0.16\n",
      "评估进度: 85/200, 当前样本BLEU分数: 0.26\n",
      "评估进度: 86/200, 当前样本BLEU分数: 0.08\n",
      "评估进度: 87/200, 当前样本BLEU分数: 0.15\n",
      "评估进度: 88/200, 当前样本BLEU分数: 0.34\n",
      "评估进度: 89/200, 当前样本BLEU分数: 0.08\n",
      "评估进度: 90/200, 当前样本BLEU分数: 0.04\n",
      "评估进度: 91/200, 当前样本BLEU分数: 0.01\n",
      "评估进度: 92/200, 当前样本BLEU分数: 0.47\n",
      "评估进度: 93/200, 当前样本BLEU分数: 0.05\n",
      "评估进度: 94/200, 当前样本BLEU分数: 0.18\n",
      "评估进度: 95/200, 当前样本BLEU分数: 0.23\n",
      "评估进度: 96/200, 当前样本BLEU分数: 0.08\n",
      "评估进度: 97/200, 当前样本BLEU分数: 0.09\n",
      "评估进度: 98/200, 当前样本BLEU分数: 0.43\n",
      "评估进度: 99/200, 当前样本BLEU分数: 0.00\n",
      "评估进度: 100/200, 当前样本BLEU分数: 0.04\n",
      "评估进度: 101/200, 当前样本BLEU分数: 0.05\n",
      "评估进度: 102/200, 当前样本BLEU分数: 0.06\n",
      "评估进度: 103/200, 当前样本BLEU分数: 0.27\n",
      "评估进度: 104/200, 当前样本BLEU分数: 0.13\n",
      "评估进度: 105/200, 当前样本BLEU分数: 0.15\n",
      "评估进度: 106/200, 当前样本BLEU分数: 0.09\n",
      "评估进度: 107/200, 当前样本BLEU分数: 0.02\n",
      "评估进度: 108/200, 当前样本BLEU分数: 0.03\n",
      "评估进度: 109/200, 当前样本BLEU分数: 0.15\n",
      "评估进度: 110/200, 当前样本BLEU分数: 0.36\n",
      "评估进度: 111/200, 当前样本BLEU分数: 0.07\n",
      "评估进度: 112/200, 当前样本BLEU分数: 0.45\n",
      "评估进度: 113/200, 当前样本BLEU分数: 0.05\n",
      "评估进度: 114/200, 当前样本BLEU分数: 0.31\n",
      "评估进度: 115/200, 当前样本BLEU分数: 0.27\n",
      "评估进度: 116/200, 当前样本BLEU分数: 0.18\n",
      "评估进度: 117/200, 当前样本BLEU分数: 0.18\n",
      "评估进度: 118/200, 当前样本BLEU分数: 0.20\n",
      "评估进度: 119/200, 当前样本BLEU分数: 0.28\n",
      "评估进度: 120/200, 当前样本BLEU分数: 0.10\n",
      "评估进度: 121/200, 当前样本BLEU分数: 0.49\n",
      "评估进度: 122/200, 当前样本BLEU分数: 0.47\n",
      "评估进度: 123/200, 当前样本BLEU分数: 0.06\n",
      "评估进度: 124/200, 当前样本BLEU分数: 0.14\n",
      "评估进度: 125/200, 当前样本BLEU分数: 0.09\n",
      "评估进度: 126/200, 当前样本BLEU分数: 0.02\n",
      "评估进度: 127/200, 当前样本BLEU分数: 0.01\n",
      "评估进度: 128/200, 当前样本BLEU分数: 0.04\n",
      "评估进度: 129/200, 当前样本BLEU分数: 0.01\n",
      "评估进度: 130/200, 当前样本BLEU分数: 0.50\n",
      "评估进度: 131/200, 当前样本BLEU分数: 0.08\n",
      "评估进度: 132/200, 当前样本BLEU分数: 0.35\n",
      "评估进度: 133/200, 当前样本BLEU分数: 0.06\n",
      "评估进度: 134/200, 当前样本BLEU分数: 0.01\n",
      "评估进度: 135/200, 当前样本BLEU分数: 0.03\n",
      "评估进度: 136/200, 当前样本BLEU分数: 0.01\n",
      "评估进度: 137/200, 当前样本BLEU分数: 0.08\n",
      "评估进度: 138/200, 当前样本BLEU分数: 0.05\n",
      "评估进度: 139/200, 当前样本BLEU分数: 0.05\n",
      "评估进度: 140/200, 当前样本BLEU分数: 0.06\n",
      "评估进度: 141/200, 当前样本BLEU分数: 0.10\n",
      "评估进度: 142/200, 当前样本BLEU分数: 0.12\n",
      "评估进度: 143/200, 当前样本BLEU分数: 0.13\n",
      "评估进度: 144/200, 当前样本BLEU分数: 0.04\n",
      "评估进度: 145/200, 当前样本BLEU分数: 0.11\n",
      "评估进度: 146/200, 当前样本BLEU分数: 0.02\n",
      "评估进度: 147/200, 当前样本BLEU分数: 0.21\n",
      "评估进度: 148/200, 当前样本BLEU分数: 0.69\n",
      "评估进度: 149/200, 当前样本BLEU分数: 0.01\n",
      "评估进度: 150/200, 当前样本BLEU分数: 0.20\n",
      "评估进度: 151/200, 当前样本BLEU分数: 0.19\n",
      "评估进度: 152/200, 当前样本BLEU分数: 0.24\n",
      "评估进度: 153/200, 当前样本BLEU分数: 0.36\n",
      "评估进度: 154/200, 当前样本BLEU分数: 0.56\n",
      "评估进度: 155/200, 当前样本BLEU分数: 0.20\n",
      "评估进度: 156/200, 当前样本BLEU分数: 0.03\n",
      "评估进度: 157/200, 当前样本BLEU分数: 0.01\n",
      "评估进度: 158/200, 当前样本BLEU分数: 0.08\n",
      "评估进度: 159/200, 当前样本BLEU分数: 0.43\n",
      "评估进度: 160/200, 当前样本BLEU分数: 0.01\n",
      "评估进度: 161/200, 当前样本BLEU分数: 0.02\n",
      "评估进度: 162/200, 当前样本BLEU分数: 0.34\n",
      "评估进度: 163/200, 当前样本BLEU分数: 0.14\n",
      "评估进度: 164/200, 当前样本BLEU分数: 0.07\n",
      "评估进度: 165/200, 当前样本BLEU分数: 0.02\n",
      "评估进度: 166/200, 当前样本BLEU分数: 0.13\n",
      "评估进度: 167/200, 当前样本BLEU分数: 0.02\n",
      "评估进度: 168/200, 当前样本BLEU分数: 0.09\n",
      "评估进度: 169/200, 当前样本BLEU分数: 0.33\n",
      "评估进度: 170/200, 当前样本BLEU分数: 0.15\n",
      "评估进度: 171/200, 当前样本BLEU分数: 0.02\n",
      "评估进度: 172/200, 当前样本BLEU分数: 0.21\n",
      "评估进度: 173/200, 当前样本BLEU分数: 0.26\n",
      "评估进度: 174/200, 当前样本BLEU分数: 0.18\n",
      "评估进度: 175/200, 当前样本BLEU分数: 0.25\n",
      "评估进度: 176/200, 当前样本BLEU分数: 0.17\n",
      "评估进度: 177/200, 当前样本BLEU分数: 0.04\n",
      "评估进度: 178/200, 当前样本BLEU分数: 0.07\n",
      "评估进度: 179/200, 当前样本BLEU分数: 0.11\n",
      "评估进度: 180/200, 当前样本BLEU分数: 0.03\n",
      "评估进度: 181/200, 当前样本BLEU分数: 0.17\n",
      "评估进度: 182/200, 当前样本BLEU分数: 0.05\n",
      "评估进度: 183/200, 当前样本BLEU分数: 0.53\n",
      "评估进度: 184/200, 当前样本BLEU分数: 0.24\n",
      "评估进度: 185/200, 当前样本BLEU分数: 0.13\n",
      "评估进度: 186/200, 当前样本BLEU分数: 0.70\n",
      "评估进度: 187/200, 当前样本BLEU分数: 0.17\n",
      "评估进度: 188/200, 当前样本BLEU分数: 0.04\n",
      "评估进度: 189/200, 当前样本BLEU分数: 0.02\n",
      "评估进度: 190/200, 当前样本BLEU分数: 0.23\n",
      "评估进度: 191/200, 当前样本BLEU分数: 0.05\n",
      "评估进度: 192/200, 当前样本BLEU分数: 0.07\n",
      "评估进度: 193/200, 当前样本BLEU分数: 0.11\n",
      "评估进度: 194/200, 当前样本BLEU分数: 0.04\n",
      "评估进度: 195/200, 当前样本BLEU分数: 0.05\n",
      "评估进度: 196/200, 当前样本BLEU分数: 0.09\n",
      "评估进度: 197/200, 当前样本BLEU分数: 0.28\n",
      "评估进度: 198/200, 当前样本BLEU分数: 0.40\n",
      "评估进度: 199/200, 当前样本BLEU分数: 0.25\n",
      "评估进度: 200/200, 当前样本BLEU分数: 0.16\n"
     ]
    }
   ],
   "source": [
    "total_samples = len(data)\n",
    "\n",
    "# 初始化评估结果\n",
    "evaluation_results = {\n",
    "    \"scores\": {\"average_BLEU\": 0},\n",
    "    \"infos\": {\n",
    "        \"evaluation_time\": time.strftime(\"%Y/%m/%d %H:%M:%S\", time.localtime()),\n",
    "        \"model_name_or_path\": model_name_or_path,\n",
    "        \"eva_file_path\": eva_file_path,\n",
    "        \"total_samples\": total_samples\n",
    "    },\n",
    "    \"samples\": []\n",
    "}\n",
    "\n",
    "# 开始评估\n",
    "total_bleu_score = 0\n",
    "print(f\"开始评估，共 {total_samples} 个样本.\")\n",
    "\n",
    "for i, example in enumerate(data):\n",
    "    inputs = example[\"input\"]\n",
    "    truths = [example[\"output\"]]\n",
    "    results = generate_output_from_text([inputs])\n",
    "    results_str = results[0]['text']\n",
    "    max_bleu_score = max(calculate_bleu(truth, results_str) for truth in truths)\n",
    "    total_bleu_score += max_bleu_score\n",
    "\n",
    "    # 将每个样本的评估结果添加到evaluation_results中\n",
    "    evaluation_results[\"samples\"].append({\n",
    "        \"inputs\": inputs,\n",
    "        \"truth\": truths[0],\n",
    "        \"results\": results_str,\n",
    "        \"BLEU\": max_bleu_score\n",
    "    })\n",
    "\n",
    "    # 打印进度和当前样本的BLEU分数\n",
    "    print(f\"评估进度: {i+1}/{total_samples}, 当前样本BLEU分数: {max_bleu_score:.2f}\")"
   ]
  },
  {
   "cell_type": "code",
   "execution_count": 11,
   "metadata": {},
   "outputs": [
    {
     "name": "stdout",
     "output_type": "stream",
     "text": [
      "评估完成，平均BLEU分数为: 0.16\n",
      "评估结果已保存到 ./data/eval_results/eval_resu_20231217215841.json\n"
     ]
    }
   ],
   "source": [
    "# 计算平均BLEU分数并保存评估结果\n",
    "evaluation_results[\"scores\"][\"average_BLEU\"] = total_bleu_score / total_samples\n",
    "result_file = os.path.join(output_file_path, f\"eval_resu_{time.strftime('%Y%m%d%H%M%S', time.localtime())}.json\")\n",
    "with open(result_file, \"w\", encoding=\"utf-8\") as f:\n",
    "    json.dump(evaluation_results, f, ensure_ascii=False, indent=4)\n",
    "\n",
    "print(f\"评估完成，平均BLEU分数为: {evaluation_results['scores']['average_BLEU']:.2f}\")\n",
    "print(f\"评估结果已保存到 {result_file}\")"
   ]
  }
 ],
 "metadata": {
  "kernelspec": {
   "display_name": "base",
   "language": "python",
   "name": "python3"
  },
  "language_info": {
   "codemirror_mode": {
    "name": "ipython",
    "version": 3
   },
   "file_extension": ".py",
   "mimetype": "text/x-python",
   "name": "python",
   "nbconvert_exporter": "python",
   "pygments_lexer": "ipython3",
   "version": "3.8.10"
  }
 },
 "nbformat": 4,
 "nbformat_minor": 2
}
