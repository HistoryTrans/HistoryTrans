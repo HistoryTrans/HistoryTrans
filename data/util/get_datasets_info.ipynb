{
 "cells": [
  {
   "cell_type": "markdown",
   "metadata": {},
   "source": [
    "统计数据集数量"
   ]
  },
  {
   "cell_type": "code",
   "execution_count": 13,
   "metadata": {},
   "outputs": [
    {
     "name": "stdout",
     "output_type": "stream",
     "text": [
      "4705\n"
     ]
    }
   ],
   "source": [
    "import json\n",
    "\n",
    "datasets_path = r\"../merged_output_20230812_190843.json\"\n",
    "\n",
    "# 读取并解析 JSON 文件\n",
    "with open(datasets_path, 'r') as f:\n",
    "    data = json.load(f)\n",
    "\n",
    "# 计算并打印字典的数量\n",
    "print(len(data))"
   ]
  },
  {
   "cell_type": "markdown",
   "metadata": {},
   "source": [
    "统计数据集token后的长度"
   ]
  },
  {
   "cell_type": "code",
   "execution_count": 14,
   "metadata": {},
   "outputs": [],
   "source": [
    "from dataclasses import dataclass, field\n",
    "\n",
    "import transformers\n",
    "from accelerate import Accelerator\n",
    "from typing import Optional\n",
    "from transformers import AutoTokenizer, AutoModelForCausalLM\n",
    "import os\n",
    "import sys\n",
    "sys.path.append('../../')\n",
    "\n",
    "\n",
    "from trainers.accelerateTrainer import AccelerateTrainer\n",
    "from util.translation_dataset import get_train_dataset\n",
    "from datetime import datetime"
   ]
  },
  {
   "cell_type": "code",
   "execution_count": 15,
   "metadata": {},
   "outputs": [],
   "source": [
    "tokenizer = AutoTokenizer.from_pretrained(\n",
    "    \"bigscience/bloomz-560m\",\n",
    "    use_fast=False,\n",
    ")"
   ]
  },
  {
   "cell_type": "code",
   "execution_count": 16,
   "metadata": {},
   "outputs": [],
   "source": [
    "def preprocess(\n",
    "    source,\n",
    "    target,\n",
    "    tokenizer: transformers.PreTrainedTokenizer,\n",
    "):\n",
    "    \"\"\"Preprocess the data by tokenizing.\"\"\"\n",
    "    example = source + target\n",
    "    return tokenizer(example)"
   ]
  },
  {
   "cell_type": "code",
   "execution_count": 17,
   "metadata": {},
   "outputs": [],
   "source": [
    "PROMPT_DICT = {\n",
    "    \"prompt_input\": (\n",
    "        \"下面是一段文言文文本，请将它翻译成白话文。\\n\"\n",
    "        \"{terms}\"\n",
    "        \"#文言文文本:\\n{input}\\n\\n#白话文:\\n\"\n",
    "    ),\n",
    "}\n",
    "\n",
    "def make_prompt(example, tokenizer):\n",
    "    terms = example.get(\"terms\", \"\")\n",
    "    terms_prompt = \"\"\n",
    "    if terms:\n",
    "        terms_prompt = \"#需应用术语:\\n\"\n",
    "        for term in terms:\n",
    "            terms_prompt += f\"{term['src']}\\t{term['tag']}\\t{term['tgt']}\\n\"\n",
    "\n",
    "    source = PROMPT_DICT[\"prompt_input\"].format(\n",
    "        input=example[\"input\"], terms=terms_prompt\n",
    "    )\n",
    "    target = f\"{example['output']}{tokenizer.eos_token}\"\n",
    "    return source, target"
   ]
  },
  {
   "cell_type": "code",
   "execution_count": 18,
   "metadata": {},
   "outputs": [],
   "source": [
    "import datasets\n",
    "from torch.utils.data import Dataset\n",
    "from typing import Dict\n",
    "import torch\n",
    "\n",
    "class SupervisedDataset(Dataset):\n",
    "    \"\"\"Dataset for supervised fine-tuning.\"\"\"\n",
    "\n",
    "    def __init__(self, data_path: str, tokenizer: transformers.PreTrainedTokenizer, make_prompt=None, num_proc=1):\n",
    "        super(SupervisedDataset, self).__init__()\n",
    "        dataset = datasets.load_dataset(\"json\", data_files=data_path)\n",
    "        tokenizeddata = dataset.map(lambda x: preprocess(\n",
    "            *make_prompt(x, tokenizer), tokenizer),\n",
    "            num_proc=num_proc,\n",
    "            remove_columns=[\"input\", \"output\", \"terms\"]\n",
    "        )\n",
    "        self.data = tokenizeddata[\"train\"]\n",
    "\n",
    "    def __len__(self):\n",
    "        return len(self.data)\n",
    "\n",
    "    def __getitem__(self, i) -> Dict[str, torch.Tensor]:\n",
    "        return self.data[i]\n",
    "\n",
    "def get_train_dataset(tokenizer, data_path, accelerator=None):\n",
    "    train_dataset = SupervisedDataset(\n",
    "        tokenizer=tokenizer, data_path=data_path, make_prompt=make_prompt, num_proc=4)\n",
    "    return train_dataset"
   ]
  },
  {
   "cell_type": "code",
   "execution_count": 19,
   "metadata": {},
   "outputs": [
    {
     "name": "stdout",
     "output_type": "stream",
     "text": [
      "----------------------------------------------------------------------------------------------------\n",
      "data_path: /Users/timvan/Desktop/xm/trans_ancient_chn/data/merged_output_20230807_055259.json\n",
      "Downloading and preparing dataset json/default to /Users/timvan/.cache/huggingface/datasets/json/default-a2eb3731773b469c/0.0.0/e347ab1c932092252e717ff3f949105a4dd28b27e842dd53157d2f72e276c2e4...\n"
     ]
    },
    {
     "name": "stderr",
     "output_type": "stream",
     "text": [
      "Downloading data files: 100%|██████████| 1/1 [00:00<00:00, 1669.71it/s]\n",
      "Extracting data files: 100%|██████████| 1/1 [00:00<00:00, 35.46it/s]\n",
      "                                                                  \r"
     ]
    },
    {
     "name": "stdout",
     "output_type": "stream",
     "text": [
      "Dataset json downloaded and prepared to /Users/timvan/.cache/huggingface/datasets/json/default-a2eb3731773b469c/0.0.0/e347ab1c932092252e717ff3f949105a4dd28b27e842dd53157d2f72e276c2e4. Subsequent calls will reuse this data.\n"
     ]
    },
    {
     "name": "stderr",
     "output_type": "stream",
     "text": [
      "100%|██████████| 1/1 [00:00<00:00, 16.77it/s]\n",
      "                                                                             \r"
     ]
    }
   ],
   "source": [
    "#  定义数据集\n",
    "data_path=datasets_path\n",
    "print(\"-\"*100)\n",
    "print(f\"data_path: {data_path}\")\n",
    "train_dataset = get_train_dataset(tokenizer, data_path)"
   ]
  },
  {
   "cell_type": "code",
   "execution_count": 20,
   "metadata": {},
   "outputs": [
    {
     "name": "stdout",
     "output_type": "stream",
     "text": [
      "----------------------------------------------------------------------------------------------------\n",
      "打印数据集信息\n",
      "len(train_dataset): 4705\n",
      "decoder_input_ids: 下面是一段文言文文本，请将它翻译成白话文。\n",
      "#文言文文本:\n",
      "初，安禄山有边功，帝宠之，诏与诸姨约为兄弟，而禄山母事妃，来朝，必宴饯结欢。禄山反，以诛国忠为名，且指言妃及诸姨罪。帝欲以皇太子抚军，因禅位，诸杨大惧，哭于廷。国忠入白妃，妃衔块请死，帝意沮，乃止。及西幸至马嵬，陈玄礼等以天下计诛国忠，已死，军不解。帝遣力士问故，曰：“祸本尚在！”帝不得已，与妃诀，引而去，缢路祠下，裹尸以紫茵，瘗道侧，年三十八。\n",
      "\n",
      "#白话文:\n",
      "起初，安禄山有边功，皇帝宠信他，命他与杨家诸姨结为兄妹，而禄山则拜贵妃为母，禄山每次来京朝见天子，杨家人必定设宴招待，同他建立友好关系。后来安禄山造反，以讨伐杨国忠为借口，而且公开指出贵妃及杨家诸姨的罪恶。皇帝想让皇太子率军随从自己出征，接着把帝位禅让给他，杨家诸人极为恐惧，聚在庭院里痛哭。国忠入宫禀告贵妃，贵妃口衔土块请求天子将自己处死，皇帝心情沮丧，于是便没有那样做。等到潼关失守，玄宗西行到了马嵬驿，陈玄礼等就为天下人考虑杀掉国忠，但国忠已死，军队将士仍不散去。皇帝派高力士询问原因，将士们说：“祸乱的根子还在！”皇帝不得已，与贵妃诀别，让人把她带走，勒死在路旁的祠庙，用紫色褥子裹尸，埋在大路边，这时贵妃三十八岁。</s>\n",
      "-*-*-*-*-*-*-*-*-*-*\n",
      "decoder_input_ids: 下面是一段文言文文本，请将它翻译成白话文。\n",
      "#文言文文本:\n",
      "遂进逼都城。\n",
      "\n",
      "#白话文:\n",
      "于是杨玄感率兵进逼东都洛阳城。</s>\n",
      "-*-*-*-*-*-*-*-*-*-*\n",
      "decoder_input_ids: 下面是一段文言文文本，请将它翻译成白话文。\n",
      "#文言文文本:\n",
      "保定初，以孝宽立勋玉壁，遂于玉壁置勋州，仍授勋州刺史。齐人遣使至玉壁，求通互市。晋公护以其相持日久，绝无使命，一日忽来求交易，疑别有故。又以皇姑、皇世母先没在彼，因其请和之际，或可致之。遂令司门下大夫尹公正至玉壁，共孝宽详议。孝宽乃于郊盛设供帐，令公正接对使人，兼论皇家亲属在东之意。使者辞色甚悦。时又有汾州胡抄得关东人，孝宽复放东还，并致书一牍，具陈朝廷欲敦邻好。遂以礼送皇姑及护母等。\n",
      "\n",
      "#白话文:\n",
      "北周武帝宇文邕保定年间初，因韦孝宽曾在玉壁建立功勋，于是在玉壁设置勋州，并任命韦孝宽为勋州刺史。北齐派使节到玉壁，请求两国通商。晋公宇文护因为两国长期敌对，互不通使，现在忽然请求贸易往来，怀疑其中别有缘故。又因周武帝的姑姑和伯母先前一直留在北齐境内，趁北齐派人求和的时机，也许可以将她们接来。于是命令司门下大夫尹公正到玉壁，与韦孝宽详加讨论。韦孝宽便在城郊摆上丰盛的酒食和华丽的帷帐，让尹公正在那儿会见北齐使节，并谈到皇室亲戚在北齐境内的情况。北齐使节的言语和脸色都显得很高兴。当时又出现汾州胡人抢掠北齐人口的事，韦孝宽把抢来的人口又放回，并让他们带去一封信，详细阐述了周愿与齐和好的本意。齐国便将周武的姑姑及宇文护的母亲等人礼送到周。</s>\n",
      "-*-*-*-*-*-*-*-*-*-*\n",
      "----------------------------------------------------------------------------------------------------\n"
     ]
    }
   ],
   "source": [
    "print(\"-\"*100)\n",
    "print(\"打印数据集信息\")\n",
    "# 打印数据集信息\n",
    "print(f\"len(train_dataset): {len(train_dataset)}\")\n",
    "\n",
    "for i in range(3):\n",
    "    print(f\"decoder_input_ids: {tokenizer.decode(train_dataset[i]['input_ids'])}\")\n",
    "    print(\"-*\"*10)\n",
    "print(\"-\"*100)"
   ]
  },
  {
   "cell_type": "markdown",
   "metadata": {},
   "source": [
    "可视化input_ids长度的分布，并且使用Numpy库来计算覆盖98%数据的长度值"
   ]
  },
  {
   "cell_type": "code",
   "execution_count": 21,
   "metadata": {},
   "outputs": [
    {
     "data": {
      "image/png": "[encoded data removed]",
      "text/plain": [
       "<Figure size 640x480 with 1 Axes>"
      ]
     },
     "metadata": {},
     "output_type": "display_data"
    }
   ],
   "source": [
    "import matplotlib.pyplot as plt\n",
    "import numpy as np\n",
    "\n",
    "# 计算所有输入的长度\n",
    "lengths = [len(item['input_ids']) for item in train_dataset]\n",
    "\n",
    "# 绘制长度的直方图\n",
    "plt.hist(lengths, bins=50)\n",
    "plt.xlabel('Sequence Length')\n",
    "plt.ylabel('Frequency')\n",
    "plt.title('Distribution of sequence lengths in the dataset')\n",
    "plt.show()"
   ]
  },
  {
   "cell_type": "code",
   "execution_count": 22,
   "metadata": {},
   "outputs": [
    {
     "name": "stdout",
     "output_type": "stream",
     "text": [
      "The length value that covers 98% of the data is 969.9200000000001\n"
     ]
    }
   ],
   "source": [
    "# 计算覆盖98%数据的长度值\n",
    "lengths = np.array(lengths)\n",
    "max_length_98_percentile = np.percentile(lengths, 98)\n",
    "print(f\"The length value that covers 98% of the data is {max_length_98_percentile}\")"
   ]
  }
 ],
 "metadata": {
  "kernelspec": {
   "display_name": "bert",
   "language": "python",
   "name": "python3"
  },
  "language_info": {
   "codemirror_mode": {
    "name": "ipython",
    "version": 3
   },
   "file_extension": ".py",
   "mimetype": "text/x-python",
   "name": "python",
   "nbconvert_exporter": "python",
   "pygments_lexer": "ipython3",
   "version": "3.9.15"
  },
  "orig_nbformat": 4
 },
 "nbformat": 4,
 "nbformat_minor": 2
}
